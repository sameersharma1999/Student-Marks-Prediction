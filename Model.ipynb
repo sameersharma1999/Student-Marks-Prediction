{
 "cells": [
  {
   "cell_type": "markdown",
   "metadata": {},
   "source": [
    "## Import libraries"
   ]
  },
  {
   "cell_type": "code",
   "execution_count": 1,
   "metadata": {},
   "outputs": [],
   "source": [
    "import pandas as pd\n",
    "import numpy as np"
   ]
  },
  {
   "cell_type": "markdown",
   "metadata": {},
   "source": [
    "## Dataset"
   ]
  },
  {
   "cell_type": "code",
   "execution_count": 20,
   "metadata": {},
   "outputs": [],
   "source": [
    "data_set = pd.read_csv('student-mat.csv', sep=';')"
   ]
  },
  {
   "cell_type": "code",
   "execution_count": 23,
   "metadata": {},
   "outputs": [
    {
     "data": {
      "text/html": [
       "<div>\n",
       "<style scoped>\n",
       "    .dataframe tbody tr th:only-of-type {\n",
       "        vertical-align: middle;\n",
       "    }\n",
       "\n",
       "    .dataframe tbody tr th {\n",
       "        vertical-align: top;\n",
       "    }\n",
       "\n",
       "    .dataframe thead th {\n",
       "        text-align: right;\n",
       "    }\n",
       "</style>\n",
       "<table border=\"1\" class=\"dataframe\">\n",
       "  <thead>\n",
       "    <tr style=\"text-align: right;\">\n",
       "      <th></th>\n",
       "      <th>G1</th>\n",
       "      <th>G2</th>\n",
       "      <th>G3</th>\n",
       "      <th>studytime</th>\n",
       "      <th>failures</th>\n",
       "      <th>activities</th>\n",
       "      <th>internet</th>\n",
       "      <th>health</th>\n",
       "      <th>absences</th>\n",
       "    </tr>\n",
       "  </thead>\n",
       "  <tbody>\n",
       "    <tr>\n",
       "      <td>0</td>\n",
       "      <td>5</td>\n",
       "      <td>6</td>\n",
       "      <td>6</td>\n",
       "      <td>2</td>\n",
       "      <td>0</td>\n",
       "      <td>no</td>\n",
       "      <td>no</td>\n",
       "      <td>3</td>\n",
       "      <td>6</td>\n",
       "    </tr>\n",
       "    <tr>\n",
       "      <td>1</td>\n",
       "      <td>5</td>\n",
       "      <td>5</td>\n",
       "      <td>6</td>\n",
       "      <td>2</td>\n",
       "      <td>0</td>\n",
       "      <td>no</td>\n",
       "      <td>yes</td>\n",
       "      <td>3</td>\n",
       "      <td>4</td>\n",
       "    </tr>\n",
       "    <tr>\n",
       "      <td>2</td>\n",
       "      <td>7</td>\n",
       "      <td>8</td>\n",
       "      <td>10</td>\n",
       "      <td>2</td>\n",
       "      <td>3</td>\n",
       "      <td>no</td>\n",
       "      <td>yes</td>\n",
       "      <td>3</td>\n",
       "      <td>10</td>\n",
       "    </tr>\n",
       "    <tr>\n",
       "      <td>3</td>\n",
       "      <td>15</td>\n",
       "      <td>14</td>\n",
       "      <td>15</td>\n",
       "      <td>3</td>\n",
       "      <td>0</td>\n",
       "      <td>yes</td>\n",
       "      <td>yes</td>\n",
       "      <td>5</td>\n",
       "      <td>2</td>\n",
       "    </tr>\n",
       "    <tr>\n",
       "      <td>4</td>\n",
       "      <td>6</td>\n",
       "      <td>10</td>\n",
       "      <td>10</td>\n",
       "      <td>2</td>\n",
       "      <td>0</td>\n",
       "      <td>no</td>\n",
       "      <td>no</td>\n",
       "      <td>5</td>\n",
       "      <td>4</td>\n",
       "    </tr>\n",
       "  </tbody>\n",
       "</table>\n",
       "</div>"
      ],
      "text/plain": [
       "   G1  G2  G3  studytime  failures activities internet  health  absences\n",
       "0   5   6   6          2         0         no       no       3         6\n",
       "1   5   5   6          2         0         no      yes       3         4\n",
       "2   7   8  10          2         3         no      yes       3        10\n",
       "3  15  14  15          3         0        yes      yes       5         2\n",
       "4   6  10  10          2         0         no       no       5         4"
      ]
     },
     "execution_count": 23,
     "metadata": {},
     "output_type": "execute_result"
    }
   ],
   "source": [
    "data_set[['G1', 'G2', 'G3', 'studytime', 'failures', 'activities', 'internet', 'health', 'absences']].head()"
   ]
  },
  {
   "cell_type": "markdown",
   "metadata": {},
   "source": [
    "## Divide into dependent and independent variables"
   ]
  },
  {
   "cell_type": "code",
   "execution_count": 32,
   "metadata": {},
   "outputs": [],
   "source": [
    "X = data_set.loc[:, ['G1', 'G2', 'studytime', 'failures', 'activities', 'internet', 'health', 'absences']].values\n",
    "Y = data_set['G3'].values.reshape(-1, 1)"
   ]
  },
  {
   "cell_type": "markdown",
   "metadata": {},
   "source": [
    "## Encode categorical features"
   ]
  },
  {
   "cell_type": "code",
   "execution_count": 42,
   "metadata": {},
   "outputs": [],
   "source": [
    "from sklearn.preprocessing import LabelEncoder\n",
    "l_e = LabelEncoder()\n",
    "X[:, 4] = l_e.fit_transform(X[:, 4])  # encoded activities\n",
    "X[:, 5] = l_e.fit_transform(X[:, 5])  # encoded internet"
   ]
  },
  {
   "cell_type": "code",
   "execution_count": 46,
   "metadata": {},
   "outputs": [],
   "source": [
    "X = np.append(arr=np.ones((len(X), 1)).astype(int), values=X, axis=1)  # appended ones at front of the matrix"
   ]
  },
  {
   "cell_type": "markdown",
   "metadata": {},
   "source": [
    "## Apply backward elemination algorithm"
   ]
  },
  {
   "cell_type": "code",
   "execution_count": 48,
   "metadata": {},
   "outputs": [
    {
     "data": {
      "text/html": [
       "<table class=\"simpletable\">\n",
       "<caption>OLS Regression Results</caption>\n",
       "<tr>\n",
       "  <th>Dep. Variable:</th>            <td>y</td>        <th>  R-squared:         </th> <td>   0.826</td> \n",
       "</tr>\n",
       "<tr>\n",
       "  <th>Model:</th>                   <td>OLS</td>       <th>  Adj. R-squared:    </th> <td>   0.823</td> \n",
       "</tr>\n",
       "<tr>\n",
       "  <th>Method:</th>             <td>Least Squares</td>  <th>  F-statistic:       </th> <td>   263.0</td> \n",
       "</tr>\n",
       "<tr>\n",
       "  <th>Date:</th>             <td>Mon, 15 Jun 2020</td> <th>  Prob (F-statistic):</th> <td>8.15e-143</td>\n",
       "</tr>\n",
       "<tr>\n",
       "  <th>Time:</th>                 <td>18:28:19</td>     <th>  Log-Likelihood:    </th> <td> -815.49</td> \n",
       "</tr>\n",
       "<tr>\n",
       "  <th>No. Observations:</th>      <td>   395</td>      <th>  AIC:               </th> <td>   1647.</td> \n",
       "</tr>\n",
       "<tr>\n",
       "  <th>Df Residuals:</th>          <td>   387</td>      <th>  BIC:               </th> <td>   1679.</td> \n",
       "</tr>\n",
       "<tr>\n",
       "  <th>Df Model:</th>              <td>     7</td>      <th>                     </th>     <td> </td>    \n",
       "</tr>\n",
       "<tr>\n",
       "  <th>Covariance Type:</th>      <td>nonrobust</td>    <th>                     </th>     <td> </td>    \n",
       "</tr>\n",
       "</table>\n",
       "<table class=\"simpletable\">\n",
       "<tr>\n",
       "    <td></td>       <th>coef</th>     <th>std err</th>      <th>t</th>      <th>P>|t|</th>  <th>[0.025</th>    <th>0.975]</th>  \n",
       "</tr>\n",
       "<tr>\n",
       "  <th>const</th> <td>   -1.4122</td> <td>    0.556</td> <td>   -2.538</td> <td> 0.012</td> <td>   -2.506</td> <td>   -0.318</td>\n",
       "</tr>\n",
       "<tr>\n",
       "  <th>x1</th>    <td>    0.1492</td> <td>    0.056</td> <td>    2.642</td> <td> 0.009</td> <td>    0.038</td> <td>    0.260</td>\n",
       "</tr>\n",
       "<tr>\n",
       "  <th>x2</th>    <td>    0.9811</td> <td>    0.050</td> <td>   19.626</td> <td> 0.000</td> <td>    0.883</td> <td>    1.079</td>\n",
       "</tr>\n",
       "<tr>\n",
       "  <th>x3</th>    <td>   -0.1737</td> <td>    0.119</td> <td>   -1.462</td> <td> 0.145</td> <td>   -0.407</td> <td>    0.060</td>\n",
       "</tr>\n",
       "<tr>\n",
       "  <th>x4</th>    <td>   -0.2772</td> <td>    0.142</td> <td>   -1.955</td> <td> 0.051</td> <td>   -0.556</td> <td>    0.002</td>\n",
       "</tr>\n",
       "<tr>\n",
       "  <th>x5</th>    <td>   -0.2887</td> <td>    0.195</td> <td>   -1.478</td> <td> 0.140</td> <td>   -0.673</td> <td>    0.095</td>\n",
       "</tr>\n",
       "<tr>\n",
       "  <th>x6</th>    <td>   -0.0342</td> <td>    0.263</td> <td>   -0.130</td> <td> 0.897</td> <td>   -0.552</td> <td>    0.484</td>\n",
       "</tr>\n",
       "<tr>\n",
       "  <th>x7</th>    <td>    0.0869</td> <td>    0.071</td> <td>    1.232</td> <td> 0.219</td> <td>   -0.052</td> <td>    0.226</td>\n",
       "</tr>\n",
       "</table>\n",
       "<table class=\"simpletable\">\n",
       "<tr>\n",
       "  <th>Omnibus:</th>       <td>227.185</td> <th>  Durbin-Watson:     </th> <td>   1.872</td>\n",
       "</tr>\n",
       "<tr>\n",
       "  <th>Prob(Omnibus):</th> <td> 0.000</td>  <th>  Jarque-Bera (JB):  </th> <td>1450.963</td>\n",
       "</tr>\n",
       "<tr>\n",
       "  <th>Skew:</th>          <td>-2.475</td>  <th>  Prob(JB):          </th> <td>    0.00</td>\n",
       "</tr>\n",
       "<tr>\n",
       "  <th>Kurtosis:</th>      <td>10.979</td>  <th>  Cond. No.          </th> <td>    97.7</td>\n",
       "</tr>\n",
       "</table><br/><br/>Warnings:<br/>[1] Standard Errors assume that the covariance matrix of the errors is correctly specified."
      ],
      "text/plain": [
       "<class 'statsmodels.iolib.summary.Summary'>\n",
       "\"\"\"\n",
       "                            OLS Regression Results                            \n",
       "==============================================================================\n",
       "Dep. Variable:                      y   R-squared:                       0.826\n",
       "Model:                            OLS   Adj. R-squared:                  0.823\n",
       "Method:                 Least Squares   F-statistic:                     263.0\n",
       "Date:                Mon, 15 Jun 2020   Prob (F-statistic):          8.15e-143\n",
       "Time:                        18:28:19   Log-Likelihood:                -815.49\n",
       "No. Observations:                 395   AIC:                             1647.\n",
       "Df Residuals:                     387   BIC:                             1679.\n",
       "Df Model:                           7                                         \n",
       "Covariance Type:            nonrobust                                         \n",
       "==============================================================================\n",
       "                 coef    std err          t      P>|t|      [0.025      0.975]\n",
       "------------------------------------------------------------------------------\n",
       "const         -1.4122      0.556     -2.538      0.012      -2.506      -0.318\n",
       "x1             0.1492      0.056      2.642      0.009       0.038       0.260\n",
       "x2             0.9811      0.050     19.626      0.000       0.883       1.079\n",
       "x3            -0.1737      0.119     -1.462      0.145      -0.407       0.060\n",
       "x4            -0.2772      0.142     -1.955      0.051      -0.556       0.002\n",
       "x5            -0.2887      0.195     -1.478      0.140      -0.673       0.095\n",
       "x6            -0.0342      0.263     -0.130      0.897      -0.552       0.484\n",
       "x7             0.0869      0.071      1.232      0.219      -0.052       0.226\n",
       "==============================================================================\n",
       "Omnibus:                      227.185   Durbin-Watson:                   1.872\n",
       "Prob(Omnibus):                  0.000   Jarque-Bera (JB):             1450.963\n",
       "Skew:                          -2.475   Prob(JB):                         0.00\n",
       "Kurtosis:                      10.979   Cond. No.                         97.7\n",
       "==============================================================================\n",
       "\n",
       "Warnings:\n",
       "[1] Standard Errors assume that the covariance matrix of the errors is correctly specified.\n",
       "\"\"\""
      ]
     },
     "execution_count": 48,
     "metadata": {},
     "output_type": "execute_result"
    }
   ],
   "source": [
    "from statsmodels.regression.linear_model import OLS\n",
    "X = np.array(X, dtype=float)\n",
    "x_temp = X[:, [0,1,2,3,4,5,6,7]]\n",
    "ols = OLS(endog=Y, exog=x_temp)\n",
    "l_r = ols.fit()\n",
    "l_r.summary()"
   ]
  },
  {
   "cell_type": "code",
   "execution_count": 49,
   "metadata": {},
   "outputs": [
    {
     "data": {
      "text/html": [
       "<table class=\"simpletable\">\n",
       "<caption>OLS Regression Results</caption>\n",
       "<tr>\n",
       "  <th>Dep. Variable:</th>            <td>y</td>        <th>  R-squared:         </th> <td>   0.826</td> \n",
       "</tr>\n",
       "<tr>\n",
       "  <th>Model:</th>                   <td>OLS</td>       <th>  Adj. R-squared:    </th> <td>   0.824</td> \n",
       "</tr>\n",
       "<tr>\n",
       "  <th>Method:</th>             <td>Least Squares</td>  <th>  F-statistic:       </th> <td>   307.6</td> \n",
       "</tr>\n",
       "<tr>\n",
       "  <th>Date:</th>             <td>Mon, 15 Jun 2020</td> <th>  Prob (F-statistic):</th> <td>4.49e-144</td>\n",
       "</tr>\n",
       "<tr>\n",
       "  <th>Time:</th>                 <td>18:31:57</td>     <th>  Log-Likelihood:    </th> <td> -815.50</td> \n",
       "</tr>\n",
       "<tr>\n",
       "  <th>No. Observations:</th>      <td>   395</td>      <th>  AIC:               </th> <td>   1645.</td> \n",
       "</tr>\n",
       "<tr>\n",
       "  <th>Df Residuals:</th>          <td>   388</td>      <th>  BIC:               </th> <td>   1673.</td> \n",
       "</tr>\n",
       "<tr>\n",
       "  <th>Df Model:</th>              <td>     6</td>      <th>                     </th>     <td> </td>    \n",
       "</tr>\n",
       "<tr>\n",
       "  <th>Covariance Type:</th>      <td>nonrobust</td>    <th>                     </th>     <td> </td>    \n",
       "</tr>\n",
       "</table>\n",
       "<table class=\"simpletable\">\n",
       "<tr>\n",
       "    <td></td>       <th>coef</th>     <th>std err</th>      <th>t</th>      <th>P>|t|</th>  <th>[0.025</th>    <th>0.975]</th>  \n",
       "</tr>\n",
       "<tr>\n",
       "  <th>const</th> <td>   -1.4390</td> <td>    0.516</td> <td>   -2.788</td> <td> 0.006</td> <td>   -2.454</td> <td>   -0.424</td>\n",
       "</tr>\n",
       "<tr>\n",
       "  <th>x1</th>    <td>    0.1497</td> <td>    0.056</td> <td>    2.659</td> <td> 0.008</td> <td>    0.039</td> <td>    0.260</td>\n",
       "</tr>\n",
       "<tr>\n",
       "  <th>x2</th>    <td>    0.9805</td> <td>    0.050</td> <td>   19.746</td> <td> 0.000</td> <td>    0.883</td> <td>    1.078</td>\n",
       "</tr>\n",
       "<tr>\n",
       "  <th>x3</th>    <td>   -0.1743</td> <td>    0.119</td> <td>   -1.470</td> <td> 0.142</td> <td>   -0.407</td> <td>    0.059</td>\n",
       "</tr>\n",
       "<tr>\n",
       "  <th>x4</th>    <td>   -0.2768</td> <td>    0.142</td> <td>   -1.955</td> <td> 0.051</td> <td>   -0.555</td> <td>    0.002</td>\n",
       "</tr>\n",
       "<tr>\n",
       "  <th>x5</th>    <td>   -0.2898</td> <td>    0.195</td> <td>   -1.486</td> <td> 0.138</td> <td>   -0.673</td> <td>    0.094</td>\n",
       "</tr>\n",
       "<tr>\n",
       "  <th>x6</th>    <td>    0.0875</td> <td>    0.070</td> <td>    1.245</td> <td> 0.214</td> <td>   -0.051</td> <td>    0.226</td>\n",
       "</tr>\n",
       "</table>\n",
       "<table class=\"simpletable\">\n",
       "<tr>\n",
       "  <th>Omnibus:</th>       <td>227.129</td> <th>  Durbin-Watson:     </th> <td>   1.871</td>\n",
       "</tr>\n",
       "<tr>\n",
       "  <th>Prob(Omnibus):</th> <td> 0.000</td>  <th>  Jarque-Bera (JB):  </th> <td>1449.704</td>\n",
       "</tr>\n",
       "<tr>\n",
       "  <th>Skew:</th>          <td>-2.474</td>  <th>  Prob(JB):          </th> <td>    0.00</td>\n",
       "</tr>\n",
       "<tr>\n",
       "  <th>Kurtosis:</th>      <td>10.975</td>  <th>  Cond. No.          </th> <td>    89.5</td>\n",
       "</tr>\n",
       "</table><br/><br/>Warnings:<br/>[1] Standard Errors assume that the covariance matrix of the errors is correctly specified."
      ],
      "text/plain": [
       "<class 'statsmodels.iolib.summary.Summary'>\n",
       "\"\"\"\n",
       "                            OLS Regression Results                            \n",
       "==============================================================================\n",
       "Dep. Variable:                      y   R-squared:                       0.826\n",
       "Model:                            OLS   Adj. R-squared:                  0.824\n",
       "Method:                 Least Squares   F-statistic:                     307.6\n",
       "Date:                Mon, 15 Jun 2020   Prob (F-statistic):          4.49e-144\n",
       "Time:                        18:31:57   Log-Likelihood:                -815.50\n",
       "No. Observations:                 395   AIC:                             1645.\n",
       "Df Residuals:                     388   BIC:                             1673.\n",
       "Df Model:                           6                                         \n",
       "Covariance Type:            nonrobust                                         \n",
       "==============================================================================\n",
       "                 coef    std err          t      P>|t|      [0.025      0.975]\n",
       "------------------------------------------------------------------------------\n",
       "const         -1.4390      0.516     -2.788      0.006      -2.454      -0.424\n",
       "x1             0.1497      0.056      2.659      0.008       0.039       0.260\n",
       "x2             0.9805      0.050     19.746      0.000       0.883       1.078\n",
       "x3            -0.1743      0.119     -1.470      0.142      -0.407       0.059\n",
       "x4            -0.2768      0.142     -1.955      0.051      -0.555       0.002\n",
       "x5            -0.2898      0.195     -1.486      0.138      -0.673       0.094\n",
       "x6             0.0875      0.070      1.245      0.214      -0.051       0.226\n",
       "==============================================================================\n",
       "Omnibus:                      227.129   Durbin-Watson:                   1.871\n",
       "Prob(Omnibus):                  0.000   Jarque-Bera (JB):             1449.704\n",
       "Skew:                          -2.474   Prob(JB):                         0.00\n",
       "Kurtosis:                      10.975   Cond. No.                         89.5\n",
       "==============================================================================\n",
       "\n",
       "Warnings:\n",
       "[1] Standard Errors assume that the covariance matrix of the errors is correctly specified.\n",
       "\"\"\""
      ]
     },
     "execution_count": 49,
     "metadata": {},
     "output_type": "execute_result"
    }
   ],
   "source": [
    "from statsmodels.regression.linear_model import OLS\n",
    "X = np.array(X, dtype=float)\n",
    "x_temp = X[:, [0,1,2,3,4,5,7]]\n",
    "ols = OLS(endog=Y, exog=x_temp)\n",
    "l_r = ols.fit()\n",
    "l_r.summary()"
   ]
  },
  {
   "cell_type": "code",
   "execution_count": 50,
   "metadata": {},
   "outputs": [
    {
     "data": {
      "text/html": [
       "<table class=\"simpletable\">\n",
       "<caption>OLS Regression Results</caption>\n",
       "<tr>\n",
       "  <th>Dep. Variable:</th>            <td>y</td>        <th>  R-squared:         </th> <td>   0.826</td> \n",
       "</tr>\n",
       "<tr>\n",
       "  <th>Model:</th>                   <td>OLS</td>       <th>  Adj. R-squared:    </th> <td>   0.823</td> \n",
       "</tr>\n",
       "<tr>\n",
       "  <th>Method:</th>             <td>Least Squares</td>  <th>  F-statistic:       </th> <td>   368.2</td> \n",
       "</tr>\n",
       "<tr>\n",
       "  <th>Date:</th>             <td>Mon, 15 Jun 2020</td> <th>  Prob (F-statistic):</th> <td>4.81e-145</td>\n",
       "</tr>\n",
       "<tr>\n",
       "  <th>Time:</th>                 <td>18:32:20</td>     <th>  Log-Likelihood:    </th> <td> -816.29</td> \n",
       "</tr>\n",
       "<tr>\n",
       "  <th>No. Observations:</th>      <td>   395</td>      <th>  AIC:               </th> <td>   1645.</td> \n",
       "</tr>\n",
       "<tr>\n",
       "  <th>Df Residuals:</th>          <td>   389</td>      <th>  BIC:               </th> <td>   1668.</td> \n",
       "</tr>\n",
       "<tr>\n",
       "  <th>Df Model:</th>              <td>     5</td>      <th>                     </th>     <td> </td>    \n",
       "</tr>\n",
       "<tr>\n",
       "  <th>Covariance Type:</th>      <td>nonrobust</td>    <th>                     </th>     <td> </td>    \n",
       "</tr>\n",
       "</table>\n",
       "<table class=\"simpletable\">\n",
       "<tr>\n",
       "    <td></td>       <th>coef</th>     <th>std err</th>      <th>t</th>      <th>P>|t|</th>  <th>[0.025</th>    <th>0.975]</th>  \n",
       "</tr>\n",
       "<tr>\n",
       "  <th>const</th> <td>   -1.0926</td> <td>    0.435</td> <td>   -2.511</td> <td> 0.012</td> <td>   -1.948</td> <td>   -0.237</td>\n",
       "</tr>\n",
       "<tr>\n",
       "  <th>x1</th>    <td>    0.1516</td> <td>    0.056</td> <td>    2.692</td> <td> 0.007</td> <td>    0.041</td> <td>    0.262</td>\n",
       "</tr>\n",
       "<tr>\n",
       "  <th>x2</th>    <td>    0.9765</td> <td>    0.050</td> <td>   19.693</td> <td> 0.000</td> <td>    0.879</td> <td>    1.074</td>\n",
       "</tr>\n",
       "<tr>\n",
       "  <th>x3</th>    <td>   -0.1837</td> <td>    0.118</td> <td>   -1.551</td> <td> 0.122</td> <td>   -0.417</td> <td>    0.049</td>\n",
       "</tr>\n",
       "<tr>\n",
       "  <th>x4</th>    <td>   -0.2717</td> <td>    0.142</td> <td>   -1.918</td> <td> 0.056</td> <td>   -0.550</td> <td>    0.007</td>\n",
       "</tr>\n",
       "<tr>\n",
       "  <th>x5</th>    <td>   -0.2812</td> <td>    0.195</td> <td>   -1.442</td> <td> 0.150</td> <td>   -0.665</td> <td>    0.102</td>\n",
       "</tr>\n",
       "</table>\n",
       "<table class=\"simpletable\">\n",
       "<tr>\n",
       "  <th>Omnibus:</th>       <td>232.730</td> <th>  Durbin-Watson:     </th> <td>   1.880</td>\n",
       "</tr>\n",
       "<tr>\n",
       "  <th>Prob(Omnibus):</th> <td> 0.000</td>  <th>  Jarque-Bera (JB):  </th> <td>1548.203</td>\n",
       "</tr>\n",
       "<tr>\n",
       "  <th>Skew:</th>          <td>-2.534</td>  <th>  Prob(JB):          </th> <td>    0.00</td>\n",
       "</tr>\n",
       "<tr>\n",
       "  <th>Kurtosis:</th>      <td>11.269</td>  <th>  Cond. No.          </th> <td>    74.5</td>\n",
       "</tr>\n",
       "</table><br/><br/>Warnings:<br/>[1] Standard Errors assume that the covariance matrix of the errors is correctly specified."
      ],
      "text/plain": [
       "<class 'statsmodels.iolib.summary.Summary'>\n",
       "\"\"\"\n",
       "                            OLS Regression Results                            \n",
       "==============================================================================\n",
       "Dep. Variable:                      y   R-squared:                       0.826\n",
       "Model:                            OLS   Adj. R-squared:                  0.823\n",
       "Method:                 Least Squares   F-statistic:                     368.2\n",
       "Date:                Mon, 15 Jun 2020   Prob (F-statistic):          4.81e-145\n",
       "Time:                        18:32:20   Log-Likelihood:                -816.29\n",
       "No. Observations:                 395   AIC:                             1645.\n",
       "Df Residuals:                     389   BIC:                             1668.\n",
       "Df Model:                           5                                         \n",
       "Covariance Type:            nonrobust                                         \n",
       "==============================================================================\n",
       "                 coef    std err          t      P>|t|      [0.025      0.975]\n",
       "------------------------------------------------------------------------------\n",
       "const         -1.0926      0.435     -2.511      0.012      -1.948      -0.237\n",
       "x1             0.1516      0.056      2.692      0.007       0.041       0.262\n",
       "x2             0.9765      0.050     19.693      0.000       0.879       1.074\n",
       "x3            -0.1837      0.118     -1.551      0.122      -0.417       0.049\n",
       "x4            -0.2717      0.142     -1.918      0.056      -0.550       0.007\n",
       "x5            -0.2812      0.195     -1.442      0.150      -0.665       0.102\n",
       "==============================================================================\n",
       "Omnibus:                      232.730   Durbin-Watson:                   1.880\n",
       "Prob(Omnibus):                  0.000   Jarque-Bera (JB):             1548.203\n",
       "Skew:                          -2.534   Prob(JB):                         0.00\n",
       "Kurtosis:                      11.269   Cond. No.                         74.5\n",
       "==============================================================================\n",
       "\n",
       "Warnings:\n",
       "[1] Standard Errors assume that the covariance matrix of the errors is correctly specified.\n",
       "\"\"\""
      ]
     },
     "execution_count": 50,
     "metadata": {},
     "output_type": "execute_result"
    }
   ],
   "source": [
    "from statsmodels.regression.linear_model import OLS\n",
    "X = np.array(X, dtype=float)\n",
    "x_temp = X[:, [0,1,2,3,4,5]]\n",
    "ols = OLS(endog=Y, exog=x_temp)\n",
    "l_r = ols.fit()\n",
    "l_r.summary()"
   ]
  },
  {
   "cell_type": "code",
   "execution_count": 51,
   "metadata": {},
   "outputs": [
    {
     "data": {
      "text/html": [
       "<table class=\"simpletable\">\n",
       "<caption>OLS Regression Results</caption>\n",
       "<tr>\n",
       "  <th>Dep. Variable:</th>            <td>y</td>        <th>  R-squared:         </th> <td>   0.825</td> \n",
       "</tr>\n",
       "<tr>\n",
       "  <th>Model:</th>                   <td>OLS</td>       <th>  Adj. R-squared:    </th> <td>   0.823</td> \n",
       "</tr>\n",
       "<tr>\n",
       "  <th>Method:</th>             <td>Least Squares</td>  <th>  F-statistic:       </th> <td>   458.5</td> \n",
       "</tr>\n",
       "<tr>\n",
       "  <th>Date:</th>             <td>Mon, 15 Jun 2020</td> <th>  Prob (F-statistic):</th> <td>5.95e-146</td>\n",
       "</tr>\n",
       "<tr>\n",
       "  <th>Time:</th>                 <td>18:34:18</td>     <th>  Log-Likelihood:    </th> <td> -817.34</td> \n",
       "</tr>\n",
       "<tr>\n",
       "  <th>No. Observations:</th>      <td>   395</td>      <th>  AIC:               </th> <td>   1645.</td> \n",
       "</tr>\n",
       "<tr>\n",
       "  <th>Df Residuals:</th>          <td>   390</td>      <th>  BIC:               </th> <td>   1665.</td> \n",
       "</tr>\n",
       "<tr>\n",
       "  <th>Df Model:</th>              <td>     4</td>      <th>                     </th>     <td> </td>    \n",
       "</tr>\n",
       "<tr>\n",
       "  <th>Covariance Type:</th>      <td>nonrobust</td>    <th>                     </th>     <td> </td>    \n",
       "</tr>\n",
       "</table>\n",
       "<table class=\"simpletable\">\n",
       "<tr>\n",
       "    <td></td>       <th>coef</th>     <th>std err</th>      <th>t</th>      <th>P>|t|</th>  <th>[0.025</th>    <th>0.975]</th>  \n",
       "</tr>\n",
       "<tr>\n",
       "  <th>const</th> <td>   -1.1991</td> <td>    0.429</td> <td>   -2.792</td> <td> 0.005</td> <td>   -2.043</td> <td>   -0.355</td>\n",
       "</tr>\n",
       "<tr>\n",
       "  <th>x1</th>    <td>    0.1503</td> <td>    0.056</td> <td>    2.666</td> <td> 0.008</td> <td>    0.039</td> <td>    0.261</td>\n",
       "</tr>\n",
       "<tr>\n",
       "  <th>x2</th>    <td>    0.9765</td> <td>    0.050</td> <td>   19.666</td> <td> 0.000</td> <td>    0.879</td> <td>    1.074</td>\n",
       "</tr>\n",
       "<tr>\n",
       "  <th>x3</th>    <td>   -0.1967</td> <td>    0.118</td> <td>   -1.663</td> <td> 0.097</td> <td>   -0.429</td> <td>    0.036</td>\n",
       "</tr>\n",
       "<tr>\n",
       "  <th>x4</th>    <td>   -0.2630</td> <td>    0.142</td> <td>   -1.856</td> <td> 0.064</td> <td>   -0.542</td> <td>    0.016</td>\n",
       "</tr>\n",
       "</table>\n",
       "<table class=\"simpletable\">\n",
       "<tr>\n",
       "  <th>Omnibus:</th>       <td>235.539</td> <th>  Durbin-Watson:     </th> <td>   1.875</td>\n",
       "</tr>\n",
       "<tr>\n",
       "  <th>Prob(Omnibus):</th> <td> 0.000</td>  <th>  Jarque-Bera (JB):  </th> <td>1601.529</td>\n",
       "</tr>\n",
       "<tr>\n",
       "  <th>Skew:</th>          <td>-2.564</td>  <th>  Prob(JB):          </th> <td>    0.00</td>\n",
       "</tr>\n",
       "<tr>\n",
       "  <th>Kurtosis:</th>      <td>11.427</td>  <th>  Cond. No.          </th> <td>    73.2</td>\n",
       "</tr>\n",
       "</table><br/><br/>Warnings:<br/>[1] Standard Errors assume that the covariance matrix of the errors is correctly specified."
      ],
      "text/plain": [
       "<class 'statsmodels.iolib.summary.Summary'>\n",
       "\"\"\"\n",
       "                            OLS Regression Results                            \n",
       "==============================================================================\n",
       "Dep. Variable:                      y   R-squared:                       0.825\n",
       "Model:                            OLS   Adj. R-squared:                  0.823\n",
       "Method:                 Least Squares   F-statistic:                     458.5\n",
       "Date:                Mon, 15 Jun 2020   Prob (F-statistic):          5.95e-146\n",
       "Time:                        18:34:18   Log-Likelihood:                -817.34\n",
       "No. Observations:                 395   AIC:                             1645.\n",
       "Df Residuals:                     390   BIC:                             1665.\n",
       "Df Model:                           4                                         \n",
       "Covariance Type:            nonrobust                                         \n",
       "==============================================================================\n",
       "                 coef    std err          t      P>|t|      [0.025      0.975]\n",
       "------------------------------------------------------------------------------\n",
       "const         -1.1991      0.429     -2.792      0.005      -2.043      -0.355\n",
       "x1             0.1503      0.056      2.666      0.008       0.039       0.261\n",
       "x2             0.9765      0.050     19.666      0.000       0.879       1.074\n",
       "x3            -0.1967      0.118     -1.663      0.097      -0.429       0.036\n",
       "x4            -0.2630      0.142     -1.856      0.064      -0.542       0.016\n",
       "==============================================================================\n",
       "Omnibus:                      235.539   Durbin-Watson:                   1.875\n",
       "Prob(Omnibus):                  0.000   Jarque-Bera (JB):             1601.529\n",
       "Skew:                          -2.564   Prob(JB):                         0.00\n",
       "Kurtosis:                      11.427   Cond. No.                         73.2\n",
       "==============================================================================\n",
       "\n",
       "Warnings:\n",
       "[1] Standard Errors assume that the covariance matrix of the errors is correctly specified.\n",
       "\"\"\""
      ]
     },
     "execution_count": 51,
     "metadata": {},
     "output_type": "execute_result"
    }
   ],
   "source": [
    "from statsmodels.regression.linear_model import OLS\n",
    "X = np.array(X, dtype=float)\n",
    "x_temp = X[:, [0,1,2,3,4]]\n",
    "ols = OLS(endog=Y, exog=x_temp)\n",
    "l_r = ols.fit()\n",
    "l_r.summary()"
   ]
  },
  {
   "cell_type": "markdown",
   "metadata": {},
   "source": [
    "## Divide the dependent and independent features we get from backward elemination algorithm"
   ]
  },
  {
   "cell_type": "code",
   "execution_count": 74,
   "metadata": {},
   "outputs": [],
   "source": [
    "new_x = data_set[['G1', 'G2', 'studytime', 'failures']].values\n",
    "new_y = data_set['G3'].values.reshape(-1, 1)"
   ]
  },
  {
   "cell_type": "markdown",
   "metadata": {},
   "source": [
    "## Divide data into train and test set"
   ]
  },
  {
   "cell_type": "code",
   "execution_count": 75,
   "metadata": {},
   "outputs": [],
   "source": [
    "from sklearn.model_selection import train_test_split\n",
    "x_train, x_test, y_train, y_test = train_test_split(new_x, new_y, train_size=0.8, test_size=0.2)"
   ]
  },
  {
   "cell_type": "markdown",
   "metadata": {},
   "source": [
    "## Train model"
   ]
  },
  {
   "cell_type": "code",
   "execution_count": 78,
   "metadata": {},
   "outputs": [
    {
     "data": {
      "text/plain": [
       "LinearRegression(copy_X=True, fit_intercept=True, n_jobs=None, normalize=False)"
      ]
     },
     "execution_count": 78,
     "metadata": {},
     "output_type": "execute_result"
    }
   ],
   "source": [
    "from sklearn.linear_model import LinearRegression\n",
    "l_r = LinearRegression()\n",
    "l_r.fit(x_train, y_train)"
   ]
  },
  {
   "cell_type": "code",
   "execution_count": 79,
   "metadata": {},
   "outputs": [
    {
     "data": {
      "text/plain": [
       "array([[ 0.14264609,  0.9817479 , -0.04227558, -0.30802452]])"
      ]
     },
     "execution_count": 79,
     "metadata": {},
     "output_type": "execute_result"
    }
   ],
   "source": [
    "l_r.coef_  # equation coefficients"
   ]
  },
  {
   "cell_type": "code",
   "execution_count": 80,
   "metadata": {},
   "outputs": [
    {
     "data": {
      "text/plain": [
       "array([-1.50115851])"
      ]
     },
     "execution_count": 80,
     "metadata": {},
     "output_type": "execute_result"
    }
   ],
   "source": [
    "l_r.intercept_   # equation intersept"
   ]
  },
  {
   "cell_type": "markdown",
   "metadata": {},
   "source": [
    "## Predict new test values"
   ]
  },
  {
   "cell_type": "code",
   "execution_count": 81,
   "metadata": {},
   "outputs": [],
   "source": [
    "predicted_y = l_r.predict(x_test)"
   ]
  },
  {
   "cell_type": "markdown",
   "metadata": {},
   "source": [
    "## Analyse results Test values v/s Predicted values"
   ]
  },
  {
   "cell_type": "code",
   "execution_count": 101,
   "metadata": {},
   "outputs": [
    {
     "name": "stdout",
     "output_type": "stream",
     "text": [
      "Test values    Predicted values\n",
      "    17              15.3\n",
      "    12              11.9\n",
      "    10              8.4\n",
      "    11              10.8\n",
      "    10              8.6\n",
      "    0              7.4\n",
      "    14              14.2\n",
      "    11              11.8\n",
      "    6              6.5\n",
      "    14              14.3\n",
      "    15              14.3\n",
      "    18              18.6\n",
      "    10              8.6\n",
      "    10              8.5\n",
      "    10              8.5\n",
      "    10              9.7\n",
      "    14              14.2\n",
      "    11              9.8\n",
      "    12              10.9\n",
      "    0              -1.8\n",
      "    10              9.1\n",
      "    9              9.4\n",
      "    0              8.6\n",
      "    0              8.6\n",
      "    5              3.9\n",
      "    10              10.7\n",
      "    13              13.0\n",
      "    0              7.3\n",
      "    17              16.5\n",
      "    15              15.4\n",
      "    13              12.6\n",
      "    0              -1.8\n",
      "    11              8.9\n",
      "    11              8.7\n",
      "    11              10.7\n",
      "    13              11.9\n",
      "    15              15.3\n",
      "    14              11.9\n",
      "    11              10.8\n",
      "    10              9.7\n",
      "    8              6.4\n",
      "    9              8.8\n",
      "    11              9.9\n",
      "    12              10.9\n",
      "    13              13.0\n",
      "    10              9.0\n",
      "    11              9.7\n",
      "    9              8.6\n",
      "    18              18.7\n",
      "    13              12.3\n",
      "    12              12.1\n",
      "    11              7.5\n",
      "    15              15.3\n",
      "    5              3.4\n",
      "    17              17.4\n",
      "    9              7.7\n",
      "    17              17.5\n",
      "    14              15.3\n",
      "    9              8.6\n",
      "    10              8.5\n",
      "    16              16.1\n",
      "    15              15.1\n",
      "    10              9.7\n",
      "    10              10.8\n",
      "    6              4.2\n",
      "    13              11.8\n",
      "    19              18.4\n",
      "    11              9.8\n",
      "    9              7.4\n",
      "    10              9.7\n",
      "    13              13.0\n",
      "    8              8.6\n",
      "    10              10.7\n",
      "    14              14.2\n",
      "    8              8.5\n",
      "    12              10.5\n",
      "    16              15.3\n",
      "    13              12.5\n",
      "    13              11.3\n"
     ]
    }
   ],
   "source": [
    "print('Test values    Predicted values')\n",
    "for ry, py in zip(y_test ,predicted_y):\n",
    "    print('   ', ry[0], '            ',round(py[0], 1))"
   ]
  },
  {
   "cell_type": "markdown",
   "metadata": {},
   "source": [
    "## Predict new value (other than test set)"
   ]
  },
  {
   "cell_type": "code",
   "execution_count": 142,
   "metadata": {},
   "outputs": [],
   "source": [
    "G1 = 16\n",
    "G2 = 14\n",
    "studytime = 2\n",
    "failure = 0\n",
    "prediction = l_r.predict([[G1, G2, studytime, failure]])\n",
    "prediction = round(prediction[0][0], 1)"
   ]
  },
  {
   "cell_type": "code",
   "execution_count": 143,
   "metadata": {},
   "outputs": [
    {
     "name": "stdout",
     "output_type": "stream",
     "text": [
      "G3:  14.4\n"
     ]
    }
   ],
   "source": [
    "if prediction > 20:\n",
    "    prediction = 20\n",
    "elif prediction < 0:\n",
    "    prediction = 0\n",
    "print('G3: ', prediction)"
   ]
  }
 ],
 "metadata": {
  "kernelspec": {
   "display_name": "Python 3",
   "language": "python",
   "name": "python3"
  },
  "language_info": {
   "codemirror_mode": {
    "name": "ipython",
    "version": 3
   },
   "file_extension": ".py",
   "mimetype": "text/x-python",
   "name": "python",
   "nbconvert_exporter": "python",
   "pygments_lexer": "ipython3",
   "version": "3.7.4"
  }
 },
 "nbformat": 4,
 "nbformat_minor": 2
}
