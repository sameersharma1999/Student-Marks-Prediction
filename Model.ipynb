{
 "cells": [
  {
   "cell_type": "code",
   "execution_count": 1,
   "metadata": {},
   "outputs": [],
   "source": [
    "import pandas as pd\n",
    "import numpy as np\n",
    "import seaborn as sns\n",
    "from matplotlib import pyplot as plt\n",
    "plt.style.use(\"ggplot\")\n",
    "plt.rcParams['figure.figsize'] = (6, 4)  # just used to set size of figure plotted"
   ]
  },
  {
   "cell_type": "code",
   "execution_count": 2,
   "metadata": {},
   "outputs": [
    {
     "data": {
      "text/html": [
       "<div>\n",
       "<style scoped>\n",
       "    .dataframe tbody tr th:only-of-type {\n",
       "        vertical-align: middle;\n",
       "    }\n",
       "\n",
       "    .dataframe tbody tr th {\n",
       "        vertical-align: top;\n",
       "    }\n",
       "\n",
       "    .dataframe thead th {\n",
       "        text-align: right;\n",
       "    }\n",
       "</style>\n",
       "<table border=\"1\" class=\"dataframe\">\n",
       "  <thead>\n",
       "    <tr style=\"text-align: right;\">\n",
       "      <th></th>\n",
       "      <th>school</th>\n",
       "      <th>sex</th>\n",
       "      <th>age</th>\n",
       "      <th>address</th>\n",
       "      <th>famsize</th>\n",
       "      <th>Pstatus</th>\n",
       "      <th>Medu</th>\n",
       "      <th>Fedu</th>\n",
       "      <th>Mjob</th>\n",
       "      <th>Fjob</th>\n",
       "      <th>...</th>\n",
       "      <th>famrel</th>\n",
       "      <th>freetime</th>\n",
       "      <th>goout</th>\n",
       "      <th>Dalc</th>\n",
       "      <th>Walc</th>\n",
       "      <th>health</th>\n",
       "      <th>absences</th>\n",
       "      <th>G1</th>\n",
       "      <th>G2</th>\n",
       "      <th>G3</th>\n",
       "    </tr>\n",
       "  </thead>\n",
       "  <tbody>\n",
       "    <tr>\n",
       "      <td>0</td>\n",
       "      <td>GP</td>\n",
       "      <td>F</td>\n",
       "      <td>18</td>\n",
       "      <td>U</td>\n",
       "      <td>GT3</td>\n",
       "      <td>A</td>\n",
       "      <td>4</td>\n",
       "      <td>4</td>\n",
       "      <td>at_home</td>\n",
       "      <td>teacher</td>\n",
       "      <td>...</td>\n",
       "      <td>4</td>\n",
       "      <td>3</td>\n",
       "      <td>4</td>\n",
       "      <td>1</td>\n",
       "      <td>1</td>\n",
       "      <td>3</td>\n",
       "      <td>6</td>\n",
       "      <td>5</td>\n",
       "      <td>6</td>\n",
       "      <td>6</td>\n",
       "    </tr>\n",
       "    <tr>\n",
       "      <td>1</td>\n",
       "      <td>GP</td>\n",
       "      <td>F</td>\n",
       "      <td>17</td>\n",
       "      <td>U</td>\n",
       "      <td>GT3</td>\n",
       "      <td>T</td>\n",
       "      <td>1</td>\n",
       "      <td>1</td>\n",
       "      <td>at_home</td>\n",
       "      <td>other</td>\n",
       "      <td>...</td>\n",
       "      <td>5</td>\n",
       "      <td>3</td>\n",
       "      <td>3</td>\n",
       "      <td>1</td>\n",
       "      <td>1</td>\n",
       "      <td>3</td>\n",
       "      <td>4</td>\n",
       "      <td>5</td>\n",
       "      <td>5</td>\n",
       "      <td>6</td>\n",
       "    </tr>\n",
       "    <tr>\n",
       "      <td>2</td>\n",
       "      <td>GP</td>\n",
       "      <td>F</td>\n",
       "      <td>15</td>\n",
       "      <td>U</td>\n",
       "      <td>LE3</td>\n",
       "      <td>T</td>\n",
       "      <td>1</td>\n",
       "      <td>1</td>\n",
       "      <td>at_home</td>\n",
       "      <td>other</td>\n",
       "      <td>...</td>\n",
       "      <td>4</td>\n",
       "      <td>3</td>\n",
       "      <td>2</td>\n",
       "      <td>2</td>\n",
       "      <td>3</td>\n",
       "      <td>3</td>\n",
       "      <td>10</td>\n",
       "      <td>7</td>\n",
       "      <td>8</td>\n",
       "      <td>10</td>\n",
       "    </tr>\n",
       "    <tr>\n",
       "      <td>3</td>\n",
       "      <td>GP</td>\n",
       "      <td>F</td>\n",
       "      <td>15</td>\n",
       "      <td>U</td>\n",
       "      <td>GT3</td>\n",
       "      <td>T</td>\n",
       "      <td>4</td>\n",
       "      <td>2</td>\n",
       "      <td>health</td>\n",
       "      <td>services</td>\n",
       "      <td>...</td>\n",
       "      <td>3</td>\n",
       "      <td>2</td>\n",
       "      <td>2</td>\n",
       "      <td>1</td>\n",
       "      <td>1</td>\n",
       "      <td>5</td>\n",
       "      <td>2</td>\n",
       "      <td>15</td>\n",
       "      <td>14</td>\n",
       "      <td>15</td>\n",
       "    </tr>\n",
       "    <tr>\n",
       "      <td>4</td>\n",
       "      <td>GP</td>\n",
       "      <td>F</td>\n",
       "      <td>16</td>\n",
       "      <td>U</td>\n",
       "      <td>GT3</td>\n",
       "      <td>T</td>\n",
       "      <td>3</td>\n",
       "      <td>3</td>\n",
       "      <td>other</td>\n",
       "      <td>other</td>\n",
       "      <td>...</td>\n",
       "      <td>4</td>\n",
       "      <td>3</td>\n",
       "      <td>2</td>\n",
       "      <td>1</td>\n",
       "      <td>2</td>\n",
       "      <td>5</td>\n",
       "      <td>4</td>\n",
       "      <td>6</td>\n",
       "      <td>10</td>\n",
       "      <td>10</td>\n",
       "    </tr>\n",
       "  </tbody>\n",
       "</table>\n",
       "<p>5 rows × 33 columns</p>\n",
       "</div>"
      ],
      "text/plain": [
       "  school sex  age address famsize Pstatus  Medu  Fedu     Mjob      Fjob  ...  \\\n",
       "0     GP   F   18       U     GT3       A     4     4  at_home   teacher  ...   \n",
       "1     GP   F   17       U     GT3       T     1     1  at_home     other  ...   \n",
       "2     GP   F   15       U     LE3       T     1     1  at_home     other  ...   \n",
       "3     GP   F   15       U     GT3       T     4     2   health  services  ...   \n",
       "4     GP   F   16       U     GT3       T     3     3    other     other  ...   \n",
       "\n",
       "  famrel freetime  goout  Dalc  Walc health absences  G1  G2  G3  \n",
       "0      4        3      4     1     1      3        6   5   6   6  \n",
       "1      5        3      3     1     1      3        4   5   5   6  \n",
       "2      4        3      2     2     3      3       10   7   8  10  \n",
       "3      3        2      2     1     1      5        2  15  14  15  \n",
       "4      4        3      2     1     2      5        4   6  10  10  \n",
       "\n",
       "[5 rows x 33 columns]"
      ]
     },
     "execution_count": 2,
     "metadata": {},
     "output_type": "execute_result"
    }
   ],
   "source": [
    "data_set = pd.read_csv('student-mat.csv', sep=';')\n",
    "data_set.head()"
   ]
  },
  {
   "cell_type": "code",
   "execution_count": 3,
   "metadata": {},
   "outputs": [
    {
     "data": {
      "text/html": [
       "<div>\n",
       "<style scoped>\n",
       "    .dataframe tbody tr th:only-of-type {\n",
       "        vertical-align: middle;\n",
       "    }\n",
       "\n",
       "    .dataframe tbody tr th {\n",
       "        vertical-align: top;\n",
       "    }\n",
       "\n",
       "    .dataframe thead th {\n",
       "        text-align: right;\n",
       "    }\n",
       "</style>\n",
       "<table border=\"1\" class=\"dataframe\">\n",
       "  <thead>\n",
       "    <tr style=\"text-align: right;\">\n",
       "      <th></th>\n",
       "      <th>G1</th>\n",
       "      <th>G2</th>\n",
       "      <th>G3</th>\n",
       "      <th>studytime</th>\n",
       "      <th>failures</th>\n",
       "      <th>activities</th>\n",
       "      <th>internet</th>\n",
       "      <th>health</th>\n",
       "      <th>absences</th>\n",
       "    </tr>\n",
       "  </thead>\n",
       "  <tbody>\n",
       "    <tr>\n",
       "      <td>0</td>\n",
       "      <td>5</td>\n",
       "      <td>6</td>\n",
       "      <td>6</td>\n",
       "      <td>2</td>\n",
       "      <td>0</td>\n",
       "      <td>no</td>\n",
       "      <td>no</td>\n",
       "      <td>3</td>\n",
       "      <td>6</td>\n",
       "    </tr>\n",
       "    <tr>\n",
       "      <td>1</td>\n",
       "      <td>5</td>\n",
       "      <td>5</td>\n",
       "      <td>6</td>\n",
       "      <td>2</td>\n",
       "      <td>0</td>\n",
       "      <td>no</td>\n",
       "      <td>yes</td>\n",
       "      <td>3</td>\n",
       "      <td>4</td>\n",
       "    </tr>\n",
       "    <tr>\n",
       "      <td>2</td>\n",
       "      <td>7</td>\n",
       "      <td>8</td>\n",
       "      <td>10</td>\n",
       "      <td>2</td>\n",
       "      <td>3</td>\n",
       "      <td>no</td>\n",
       "      <td>yes</td>\n",
       "      <td>3</td>\n",
       "      <td>10</td>\n",
       "    </tr>\n",
       "    <tr>\n",
       "      <td>3</td>\n",
       "      <td>15</td>\n",
       "      <td>14</td>\n",
       "      <td>15</td>\n",
       "      <td>3</td>\n",
       "      <td>0</td>\n",
       "      <td>yes</td>\n",
       "      <td>yes</td>\n",
       "      <td>5</td>\n",
       "      <td>2</td>\n",
       "    </tr>\n",
       "    <tr>\n",
       "      <td>4</td>\n",
       "      <td>6</td>\n",
       "      <td>10</td>\n",
       "      <td>10</td>\n",
       "      <td>2</td>\n",
       "      <td>0</td>\n",
       "      <td>no</td>\n",
       "      <td>no</td>\n",
       "      <td>5</td>\n",
       "      <td>4</td>\n",
       "    </tr>\n",
       "  </tbody>\n",
       "</table>\n",
       "</div>"
      ],
      "text/plain": [
       "   G1  G2  G3  studytime  failures activities internet  health  absences\n",
       "0   5   6   6          2         0         no       no       3         6\n",
       "1   5   5   6          2         0         no      yes       3         4\n",
       "2   7   8  10          2         3         no      yes       3        10\n",
       "3  15  14  15          3         0        yes      yes       5         2\n",
       "4   6  10  10          2         0         no       no       5         4"
      ]
     },
     "execution_count": 3,
     "metadata": {},
     "output_type": "execute_result"
    }
   ],
   "source": [
    "data_set = data_set[['G1', 'G2', 'G3', 'studytime', 'failures', 'activities', 'internet', 'health', 'absences']]\n",
    "data_set.head()"
   ]
  },
  {
   "cell_type": "code",
   "execution_count": 4,
   "metadata": {},
   "outputs": [
    {
     "name": "stdout",
     "output_type": "stream",
     "text": [
      "<class 'pandas.core.frame.DataFrame'>\n",
      "RangeIndex: 395 entries, 0 to 394\n",
      "Data columns (total 9 columns):\n",
      "G1            395 non-null int64\n",
      "G2            395 non-null int64\n",
      "G3            395 non-null int64\n",
      "studytime     395 non-null int64\n",
      "failures      395 non-null int64\n",
      "activities    395 non-null object\n",
      "internet      395 non-null object\n",
      "health        395 non-null int64\n",
      "absences      395 non-null int64\n",
      "dtypes: int64(7), object(2)\n",
      "memory usage: 27.9+ KB\n"
     ]
    }
   ],
   "source": [
    "data_set.info()"
   ]
  },
  {
   "cell_type": "code",
   "execution_count": 5,
   "metadata": {},
   "outputs": [
    {
     "data": {
      "text/html": [
       "<div>\n",
       "<style scoped>\n",
       "    .dataframe tbody tr th:only-of-type {\n",
       "        vertical-align: middle;\n",
       "    }\n",
       "\n",
       "    .dataframe tbody tr th {\n",
       "        vertical-align: top;\n",
       "    }\n",
       "\n",
       "    .dataframe thead th {\n",
       "        text-align: right;\n",
       "    }\n",
       "</style>\n",
       "<table border=\"1\" class=\"dataframe\">\n",
       "  <thead>\n",
       "    <tr style=\"text-align: right;\">\n",
       "      <th></th>\n",
       "      <th>G1</th>\n",
       "      <th>G2</th>\n",
       "      <th>G3</th>\n",
       "      <th>studytime</th>\n",
       "      <th>failures</th>\n",
       "      <th>health</th>\n",
       "      <th>absences</th>\n",
       "    </tr>\n",
       "  </thead>\n",
       "  <tbody>\n",
       "    <tr>\n",
       "      <td>count</td>\n",
       "      <td>395.000000</td>\n",
       "      <td>395.000000</td>\n",
       "      <td>395.000000</td>\n",
       "      <td>395.000000</td>\n",
       "      <td>395.000000</td>\n",
       "      <td>395.000000</td>\n",
       "      <td>395.000000</td>\n",
       "    </tr>\n",
       "    <tr>\n",
       "      <td>mean</td>\n",
       "      <td>10.908861</td>\n",
       "      <td>10.713924</td>\n",
       "      <td>10.415190</td>\n",
       "      <td>2.035443</td>\n",
       "      <td>0.334177</td>\n",
       "      <td>3.554430</td>\n",
       "      <td>5.708861</td>\n",
       "    </tr>\n",
       "    <tr>\n",
       "      <td>std</td>\n",
       "      <td>3.319195</td>\n",
       "      <td>3.761505</td>\n",
       "      <td>4.581443</td>\n",
       "      <td>0.839240</td>\n",
       "      <td>0.743651</td>\n",
       "      <td>1.390303</td>\n",
       "      <td>8.003096</td>\n",
       "    </tr>\n",
       "    <tr>\n",
       "      <td>min</td>\n",
       "      <td>3.000000</td>\n",
       "      <td>0.000000</td>\n",
       "      <td>0.000000</td>\n",
       "      <td>1.000000</td>\n",
       "      <td>0.000000</td>\n",
       "      <td>1.000000</td>\n",
       "      <td>0.000000</td>\n",
       "    </tr>\n",
       "    <tr>\n",
       "      <td>25%</td>\n",
       "      <td>8.000000</td>\n",
       "      <td>9.000000</td>\n",
       "      <td>8.000000</td>\n",
       "      <td>1.000000</td>\n",
       "      <td>0.000000</td>\n",
       "      <td>3.000000</td>\n",
       "      <td>0.000000</td>\n",
       "    </tr>\n",
       "    <tr>\n",
       "      <td>50%</td>\n",
       "      <td>11.000000</td>\n",
       "      <td>11.000000</td>\n",
       "      <td>11.000000</td>\n",
       "      <td>2.000000</td>\n",
       "      <td>0.000000</td>\n",
       "      <td>4.000000</td>\n",
       "      <td>4.000000</td>\n",
       "    </tr>\n",
       "    <tr>\n",
       "      <td>75%</td>\n",
       "      <td>13.000000</td>\n",
       "      <td>13.000000</td>\n",
       "      <td>14.000000</td>\n",
       "      <td>2.000000</td>\n",
       "      <td>0.000000</td>\n",
       "      <td>5.000000</td>\n",
       "      <td>8.000000</td>\n",
       "    </tr>\n",
       "    <tr>\n",
       "      <td>max</td>\n",
       "      <td>19.000000</td>\n",
       "      <td>19.000000</td>\n",
       "      <td>20.000000</td>\n",
       "      <td>4.000000</td>\n",
       "      <td>3.000000</td>\n",
       "      <td>5.000000</td>\n",
       "      <td>75.000000</td>\n",
       "    </tr>\n",
       "  </tbody>\n",
       "</table>\n",
       "</div>"
      ],
      "text/plain": [
       "               G1          G2          G3   studytime    failures      health  \\\n",
       "count  395.000000  395.000000  395.000000  395.000000  395.000000  395.000000   \n",
       "mean    10.908861   10.713924   10.415190    2.035443    0.334177    3.554430   \n",
       "std      3.319195    3.761505    4.581443    0.839240    0.743651    1.390303   \n",
       "min      3.000000    0.000000    0.000000    1.000000    0.000000    1.000000   \n",
       "25%      8.000000    9.000000    8.000000    1.000000    0.000000    3.000000   \n",
       "50%     11.000000   11.000000   11.000000    2.000000    0.000000    4.000000   \n",
       "75%     13.000000   13.000000   14.000000    2.000000    0.000000    5.000000   \n",
       "max     19.000000   19.000000   20.000000    4.000000    3.000000    5.000000   \n",
       "\n",
       "         absences  \n",
       "count  395.000000  \n",
       "mean     5.708861  \n",
       "std      8.003096  \n",
       "min      0.000000  \n",
       "25%      0.000000  \n",
       "50%      4.000000  \n",
       "75%      8.000000  \n",
       "max     75.000000  "
      ]
     },
     "execution_count": 5,
     "metadata": {},
     "output_type": "execute_result"
    }
   ],
   "source": [
    "data_set.describe()"
   ]
  },
  {
   "cell_type": "markdown",
   "metadata": {},
   "source": [
    "# Data Preprocessing"
   ]
  },
  {
   "cell_type": "code",
   "execution_count": 6,
   "metadata": {},
   "outputs": [],
   "source": [
    "# Encode categorical variables\n",
    "from sklearn.preprocessing import LabelEncoder\n",
    "\n",
    "# encoded activities column\n",
    "l_e1 = LabelEncoder()\n",
    "l_e1.fit(data_set['activities'])\n",
    "data_set['activities'] = l_e1.transform(data_set['activities'])\n",
    "\n",
    "# encoded internet column\n",
    "l_e2 = LabelEncoder()\n",
    "l_e2.fit(data_set['internet'])\n",
    "data_set['internet'] = l_e2.transform(data_set['internet'])"
   ]
  },
  {
   "cell_type": "code",
   "execution_count": 7,
   "metadata": {},
   "outputs": [
    {
     "data": {
      "text/plain": [
       "[Text(0, 0.5, 'G3'),\n",
       " Text(0.5, 0, 'absences'),\n",
       " Text(0.5, 1.0, 'Scatter plot for absences')]"
      ]
     },
     "execution_count": 7,
     "metadata": {},
     "output_type": "execute_result"
    },
    {
     "data": {
      "image/png": "[encoded data removed]",
      "text/plain": [
       "<Figure size 1440x1296 with 9 Axes>"
      ]
     },
     "metadata": {
      "needs_background": "light"
     },
     "output_type": "display_data"
    }
   ],
   "source": [
    "# scatter pairplots\n",
    "fig1, ax1 =plt.subplots(nrows=3, ncols=3, figsize=(20, 18), sharey='all')\n",
    "sns.scatterplot(x=data_set['G1'], y=data_set['G3'], ax=ax1[0][0])\n",
    "ax1[0][0].set(xlabel=\"G1\", ylabel = \"G3\", title='Scatter plot for G1')\n",
    "\n",
    "sns.scatterplot(x=data_set['G2'], y=data_set['G3'], ax=ax1[0][1])\n",
    "ax1[0][1].set(xlabel=\"G2\", ylabel = \"G3\", title='Scatter plot for G2')\n",
    "\n",
    "sns.scatterplot(x=data_set['studytime'], y=data_set['G3'], ax=ax1[0][2])\n",
    "ax1[0][2].set(xlabel=\"studytime\", ylabel = \"G3\", title='Scatter plot for studytime')\n",
    "\n",
    "sns.scatterplot(x=data_set['failures'], y=data_set['G3'], ax=ax1[1][0])\n",
    "ax1[1][0].set(xlabel=\"failures\", ylabel = \"G3\", title='Scatter plot for failures')\n",
    "\n",
    "sns.scatterplot(x=data_set['activities'], y=data_set['G3'], ax=ax1[1][1])\n",
    "ax1[1][1].set(xlabel=\"activities\", ylabel = \"G3\", title='Scatter plot for activities')\n",
    "\n",
    "sns.scatterplot(x=data_set['internet'], y=data_set['G3'], ax=ax1[1][2])\n",
    "ax1[1][2].set(xlabel=\"internet\", ylabel = \"G3\", title='Scatter plot for internet')\n",
    "\n",
    "sns.scatterplot(x=data_set['health'], y=data_set['G3'], ax=ax1[2][0])\n",
    "ax1[2][0].set(xlabel=\"health\", ylabel = \"G3\", title='Scatter plot for health')\n",
    "\n",
    "sns.scatterplot(x=data_set['absences'], y=data_set['G3'], ax=ax1[2][1])\n",
    "ax1[2][1].set(xlabel=\"absences\", ylabel = \"G3\", title='Scatter plot for absences')"
   ]
  },
  {
   "cell_type": "code",
   "execution_count": 8,
   "metadata": {},
   "outputs": [
    {
     "data": {
      "text/html": [
       "<div>\n",
       "<style scoped>\n",
       "    .dataframe tbody tr th:only-of-type {\n",
       "        vertical-align: middle;\n",
       "    }\n",
       "\n",
       "    .dataframe tbody tr th {\n",
       "        vertical-align: top;\n",
       "    }\n",
       "\n",
       "    .dataframe thead th {\n",
       "        text-align: right;\n",
       "    }\n",
       "</style>\n",
       "<table border=\"1\" class=\"dataframe\">\n",
       "  <thead>\n",
       "    <tr style=\"text-align: right;\">\n",
       "      <th></th>\n",
       "      <th>G1</th>\n",
       "      <th>G2</th>\n",
       "      <th>G3</th>\n",
       "      <th>failures</th>\n",
       "    </tr>\n",
       "  </thead>\n",
       "  <tbody>\n",
       "    <tr>\n",
       "      <td>0</td>\n",
       "      <td>5</td>\n",
       "      <td>6</td>\n",
       "      <td>6</td>\n",
       "      <td>0</td>\n",
       "    </tr>\n",
       "    <tr>\n",
       "      <td>1</td>\n",
       "      <td>5</td>\n",
       "      <td>5</td>\n",
       "      <td>6</td>\n",
       "      <td>0</td>\n",
       "    </tr>\n",
       "    <tr>\n",
       "      <td>2</td>\n",
       "      <td>7</td>\n",
       "      <td>8</td>\n",
       "      <td>10</td>\n",
       "      <td>3</td>\n",
       "    </tr>\n",
       "    <tr>\n",
       "      <td>3</td>\n",
       "      <td>15</td>\n",
       "      <td>14</td>\n",
       "      <td>15</td>\n",
       "      <td>0</td>\n",
       "    </tr>\n",
       "    <tr>\n",
       "      <td>4</td>\n",
       "      <td>6</td>\n",
       "      <td>10</td>\n",
       "      <td>10</td>\n",
       "      <td>0</td>\n",
       "    </tr>\n",
       "  </tbody>\n",
       "</table>\n",
       "</div>"
      ],
      "text/plain": [
       "   G1  G2  G3  failures\n",
       "0   5   6   6         0\n",
       "1   5   5   6         0\n",
       "2   7   8  10         3\n",
       "3  15  14  15         0\n",
       "4   6  10  10         0"
      ]
     },
     "execution_count": 8,
     "metadata": {},
     "output_type": "execute_result"
    }
   ],
   "source": [
    "# eleminating the feaures that are not following the linear pattern\n",
    "data_set = data_set[['G1', 'G2', 'G3', 'failures']]\n",
    "data_set.head()"
   ]
  },
  {
   "cell_type": "code",
   "execution_count": 9,
   "metadata": {},
   "outputs": [
    {
     "name": "stdout",
     "output_type": "stream",
     "text": [
      "Skewness of G1:  0.24061324337096948\n",
      "Skewness of G2:  -0.4316453889925487\n"
     ]
    },
    {
     "data": {
      "image/png": "[encoded data removed]",
      "text/plain": [
       "<Figure size 1080x288 with 3 Axes>"
      ]
     },
     "metadata": {
      "needs_background": "light"
     },
     "output_type": "display_data"
    }
   ],
   "source": [
    "# Histograms for G1 and G2 as they are continuous variables and barplot for failure as it is discrete column.\n",
    "fig2, ax2 =plt.subplots(nrows=1, ncols=3, figsize=(15, 4))\n",
    "\n",
    "# G1\n",
    "g1 = data_set['G1']\n",
    "sns.distplot(a=g1, kde=True, ax=ax2[0], axlabel='G1')\n",
    "\n",
    "# G2\n",
    "g2 = data_set['G2']\n",
    "sns.distplot(a=g2, kde=True, ax=ax2[1], axlabel='G2')\n",
    "\n",
    "# failures\n",
    "failures = data_set['failures']\n",
    "sns.barplot(x=data_set['failures'], y=data_set['G3'], ax=ax2[2])\n",
    "\n",
    "print(f'Skewness of G1: ', pd.Series(g1).skew())  # skewness for G1\n",
    "print(f'Skewness of G2: ', pd.Series(g2).skew())  # skewness for G2"
   ]
  },
  {
   "cell_type": "markdown",
   "metadata": {},
   "source": [
    "## Interpretation 1: Skewness of G1 and G2 are at the acceptable rate ie. between -0.5 to 0.5.      And scatter plot and barplot of faliures say that it is following linear pattern, as G3 decreases as faliures increases."
   ]
  },
  {
   "cell_type": "code",
   "execution_count": 10,
   "metadata": {},
   "outputs": [
    {
     "name": "stdout",
     "output_type": "stream",
     "text": [
      "Outlairs(G1):  []\n",
      "Outlairs(G2): []\n"
     ]
    },
    {
     "data": {
      "image/png": "[encoded data removed]",
      "text/plain": [
       "<Figure size 1080x288 with 2 Axes>"
      ]
     },
     "metadata": {
      "needs_background": "light"
     },
     "output_type": "display_data"
    }
   ],
   "source": [
    "# check for outliars\n",
    "\n",
    "# Boxplots\n",
    "from scipy import stats\n",
    "fig3, ax3 =plt.subplots(nrows=1, ncols=2, figsize=(15, 4))\n",
    "\n",
    "# G1\n",
    "sns.boxplot(x=g1, color='orange', ax=ax3[0]) \n",
    "ax3[0].set(xlabel=\"G1\")\n",
    "z_g1 = np.abs(stats.zscore(g1))  # z scores for G1 values\n",
    "\n",
    "# G2\n",
    "sns.boxplot(x=g2, color='orange', ax=ax3[1])\n",
    "ax3[1].set(xlabel=\"G2\")\n",
    "z_g2 = np.abs(stats.zscore(g2))  # z score of G2 values\n",
    " \n",
    "# we will use the threshold of 3 to detect outliars\n",
    "outlairs_g1 = [outliar for outliar in z_g1 if outliar > 3]\n",
    "print(f'Outlairs(G1): ', outlairs_g1)\n",
    "outlairs_g2 = [outliar for outliar in z_g2 if outliar > 3]\n",
    "print(f'Outlairs(G2):', outlairs_g2)"
   ]
  },
  {
   "cell_type": "code",
   "execution_count": 11,
   "metadata": {},
   "outputs": [
    {
     "data": {
      "text/plain": [
       "[(0, 130),\n",
       " (0, 131),\n",
       " (0, 134),\n",
       " (0, 135),\n",
       " (0, 136),\n",
       " (0, 137),\n",
       " (0, 144),\n",
       " (0, 153),\n",
       " (0, 162),\n",
       " (0, 242),\n",
       " (0, 244),\n",
       " (0, 269),\n",
       " (0, 332)]"
      ]
     },
     "execution_count": 11,
     "metadata": {},
     "output_type": "execute_result"
    }
   ],
   "source": [
    "\"\"\"\n",
    "NOTE:- above figure shows that there is only 1 outliar but it is not as there are many outliars at same position/value.\n",
    "You can see that from below...\n",
    "\"\"\"\n",
    "\n",
    "# getting the outliar and their respective index in G2\n",
    "g2_outliar_index = [(outliar, index) for index, outliar in zip(range(0, len(g2), 1), g2) if outliar < 2.5]  # outliars and their respective index\n",
    "g2_outliar_index"
   ]
  },
  {
   "cell_type": "code",
   "execution_count": 12,
   "metadata": {},
   "outputs": [],
   "source": [
    "# removing the outliars detected above\n",
    "indexes = [index[1] for index in g2_outliar_index]  # get indexes of all the ouliars\n",
    "data_set.drop(labels=indexes, axis=0, inplace=True)  # drop the respective rows"
   ]
  },
  {
   "cell_type": "code",
   "execution_count": 13,
   "metadata": {},
   "outputs": [],
   "source": [
    "# update values\n",
    "g1 = data_set['G1'].values\n",
    "g2 = data_set['G2'].values\n",
    "g3 = data_set['G3'].values\n",
    "failures = data_set['failures'].values"
   ]
  },
  {
   "cell_type": "code",
   "execution_count": 14,
   "metadata": {},
   "outputs": [
    {
     "name": "stdout",
     "output_type": "stream",
     "text": [
      "Skewness of G3: -0.7047421695966166\n"
     ]
    },
    {
     "data": {
      "text/plain": [
       "[Text(0.5, 0, 'G3')]"
      ]
     },
     "execution_count": 14,
     "metadata": {},
     "output_type": "execute_result"
    },
    {
     "data": {
      "image/png": "[encoded data removed]",
      "text/plain": [
       "<Figure size 1080x288 with 2 Axes>"
      ]
     },
     "metadata": {
      "needs_background": "light"
     },
     "output_type": "display_data"
    }
   ],
   "source": [
    "# Checking for outliars in G3 by histogram and Boxplot\n",
    "fig4, ax4 =plt.subplots(nrows=1, ncols=2, figsize=(15, 4))\n",
    "\n",
    "sns.distplot(a=g3, kde=True, ax=ax4[0], axlabel='G3')  # Histogram\n",
    "print(f\"Skewness of G3: {pd.Series(data_set['G3']).skew()}\")\n",
    "\n",
    "sns.boxplot(x=g3, color='orange', ax=ax4[1])  # Boxplot\n",
    "ax4[1].set(xlabel=\"G3\")      "
   ]
  },
  {
   "cell_type": "markdown",
   "metadata": {},
   "source": [
    "## Interpretation 2: G3 is skewed, we can see it from the histogram and outliar we can see from boxplot"
   ]
  },
  {
   "cell_type": "code",
   "execution_count": 15,
   "metadata": {},
   "outputs": [],
   "source": [
    "# Get index and outliar from the G3\n",
    "g3_outliar_index = [(index, outliar) for index, outliar in zip(data_set.index, g3) if outliar < 2.5]  # data_set.index gives list of all the indexes from our data_set\n",
    "\n",
    "# removing outliars\n",
    "outliar_indexes = [index[0] for index in g3_outliar_index]  # removing outliar\n",
    "data_set.drop(labels=outliar_indexes, axis=0, inplace=True)"
   ]
  },
  {
   "cell_type": "code",
   "execution_count": 16,
   "metadata": {},
   "outputs": [],
   "source": [
    "# update values\n",
    "g1 = data_set['G1'].values\n",
    "g2 = data_set['G2'].values\n",
    "g3 = data_set['G3'].values\n",
    "failures = data_set['failures'].values"
   ]
  },
  {
   "cell_type": "code",
   "execution_count": 17,
   "metadata": {},
   "outputs": [
    {
     "name": "stdout",
     "output_type": "stream",
     "text": [
      "Skewness of G3: 0.20925593669739645\n"
     ]
    },
    {
     "data": {
      "text/plain": [
       "[Text(0.5, 0, 'G3')]"
      ]
     },
     "execution_count": 17,
     "metadata": {},
     "output_type": "execute_result"
    },
    {
     "data": {
      "image/png": "[encoded data removed]",
      "text/plain": [
       "<Figure size 1080x288 with 2 Axes>"
      ]
     },
     "metadata": {
      "needs_background": "light"
     },
     "output_type": "display_data"
    }
   ],
   "source": [
    "# Checking for outliars in G3 by histogram and Boxplot after removing the outliars\n",
    "fig5, ax5 =plt.subplots(nrows=1, ncols=2, figsize=(15, 4))\n",
    "\n",
    "sns.distplot(a=g3, kde=True, ax=ax5[0], axlabel='G3')  # Histogram\n",
    "print(f\"Skewness of G3: {pd.Series(data_set['G3']).skew()}\")\n",
    "\n",
    "sns.boxplot(x=g3, color='orange', ax=ax5[1])  # Boxplot\n",
    "ax5[1].set(xlabel=\"G3\")     "
   ]
  },
  {
   "cell_type": "markdown",
   "metadata": {},
   "source": [
    "## Interpretation 3: Skewness of G3 and outliar is removed"
   ]
  },
  {
   "cell_type": "code",
   "execution_count": 18,
   "metadata": {},
   "outputs": [
    {
     "data": {
      "text/html": [
       "<div>\n",
       "<style scoped>\n",
       "    .dataframe tbody tr th:only-of-type {\n",
       "        vertical-align: middle;\n",
       "    }\n",
       "\n",
       "    .dataframe tbody tr th {\n",
       "        vertical-align: top;\n",
       "    }\n",
       "\n",
       "    .dataframe thead th {\n",
       "        text-align: right;\n",
       "    }\n",
       "</style>\n",
       "<table border=\"1\" class=\"dataframe\">\n",
       "  <thead>\n",
       "    <tr style=\"text-align: right;\">\n",
       "      <th></th>\n",
       "      <th>G1</th>\n",
       "      <th>G2</th>\n",
       "      <th>G3</th>\n",
       "      <th>failures</th>\n",
       "    </tr>\n",
       "  </thead>\n",
       "  <tbody>\n",
       "    <tr>\n",
       "      <td>G1</td>\n",
       "      <td>1.000000</td>\n",
       "      <td>0.901940</td>\n",
       "      <td>0.891805</td>\n",
       "      <td>-0.302071</td>\n",
       "    </tr>\n",
       "    <tr>\n",
       "      <td>G2</td>\n",
       "      <td>0.901940</td>\n",
       "      <td>1.000000</td>\n",
       "      <td>0.965583</td>\n",
       "      <td>-0.301316</td>\n",
       "    </tr>\n",
       "    <tr>\n",
       "      <td>G3</td>\n",
       "      <td>0.891805</td>\n",
       "      <td>0.965583</td>\n",
       "      <td>1.000000</td>\n",
       "      <td>-0.293831</td>\n",
       "    </tr>\n",
       "    <tr>\n",
       "      <td>failures</td>\n",
       "      <td>-0.302071</td>\n",
       "      <td>-0.301316</td>\n",
       "      <td>-0.293831</td>\n",
       "      <td>1.000000</td>\n",
       "    </tr>\n",
       "  </tbody>\n",
       "</table>\n",
       "</div>"
      ],
      "text/plain": [
       "                G1        G2        G3  failures\n",
       "G1        1.000000  0.901940  0.891805 -0.302071\n",
       "G2        0.901940  1.000000  0.965583 -0.301316\n",
       "G3        0.891805  0.965583  1.000000 -0.293831\n",
       "failures -0.302071 -0.301316 -0.293831  1.000000"
      ]
     },
     "execution_count": 18,
     "metadata": {},
     "output_type": "execute_result"
    }
   ],
   "source": [
    "# correlation matrix used for checking multicolinearity\n",
    "corr_matrix = data_set.corr()  # correlation matrix\n",
    "corr_matrix"
   ]
  },
  {
   "cell_type": "code",
   "execution_count": 19,
   "metadata": {},
   "outputs": [
    {
     "data": {
      "text/plain": [
       "(4.0, 0.0)"
      ]
     },
     "execution_count": 19,
     "metadata": {},
     "output_type": "execute_result"
    },
    {
     "data": {
      "image/png": "[encoded data removed]",
      "text/plain": [
       "<Figure size 432x288 with 2 Axes>"
      ]
     },
     "metadata": {
      "needs_background": "light"
     },
     "output_type": "display_data"
    }
   ],
   "source": [
    "# Heatmap of corelation matrix\n",
    "ax = sns.heatmap(data=corr_matrix, annot=True)\n",
    "\n",
    "# below two lines are just to put the heat map or matrix properly \n",
    "bottom, top = ax.get_ylim()\n",
    "ax.set_ylim(bottom + 0.5, top - 0.5)"
   ]
  },
  {
   "cell_type": "code",
   "execution_count": 20,
   "metadata": {},
   "outputs": [
    {
     "name": "stdout",
     "output_type": "stream",
     "text": [
      "Variation inflation factor(VIF) for column G1 is:  5.3618\n",
      "Variation inflation factor(VIF) for column G2 is:  5.3618\n",
      "Variation inflation factor(VIF) for column failures is:  1.1004\n"
     ]
    }
   ],
   "source": [
    "# VIF used for checking multicolinearity\n",
    "from statsmodels.regression.linear_model import OLS\n",
    "columns = [column for column in data_set.columns if column != 'G3']  # get all features names\n",
    "\n",
    "for col in columns:\n",
    "    t_y = data_set[col].values.reshape(-1, 1)\n",
    "    t_x = [data_set[c].values.reshape(-1, 1) for c in columns if c != col][0]\n",
    "    t_x = np.append(arr=np.ones((len(t_y), 1)).astype(int), values=t_x, axis=1)  # add constant ie. 1's\n",
    "    \n",
    "    # fit model for respective regressor\n",
    "    t_x = np.array(t_x, dtype=float)\n",
    "    ols_tv = OLS(endog=t_y, exog=t_x)\n",
    "    regressor = ols_tv.fit()\n",
    "    r_square = regressor.rsquared\n",
    "    vif = round(1 / (1 - r_square),4)\n",
    "    print(f'Variation inflation factor(VIF) for column {col} is: ', vif)  # results below is same because we have only 2 columns ie. TV and radio (newspaper is removed before) and as first we check VIF for TV with radio and we check VIF for radio with TV, Therefore we get same results."
   ]
  },
  {
   "cell_type": "markdown",
   "metadata": {},
   "source": [
    "## Interpretation 4: Correlation matrix says that G1 and G2 are highly corelated, but VIF says that they are not, basically G1 and G2 need to be correlated as they are like G3 only, as G1, G2, G3 all are scores/marks only. So here the correlation of G1 and G2 is accepted."
   ]
  },
  {
   "cell_type": "markdown",
   "metadata": {},
   "source": [
    "# Making MODEL"
   ]
  },
  {
   "cell_type": "code",
   "execution_count": 21,
   "metadata": {},
   "outputs": [],
   "source": [
    "# Dividing data into dependent and independent variables\n",
    "X_data_set = data_set.loc[:, ['G1', 'G2','failures']]  # pandas version of X columns\n",
    "X = data_set.loc[:, ['G1', 'G2','failures']].values\n",
    "X = np.append(arr=np.ones((len(X), 1)).astype(int), values=X, axis=1)  # appended ones at front of the matrix\n",
    "Y = data_set['G3'].values.reshape(-1, 1)"
   ]
  },
  {
   "cell_type": "code",
   "execution_count": 22,
   "metadata": {},
   "outputs": [],
   "source": [
    "# Apply backward elemination algorithm with significance level = 0.5\n",
    "\n",
    "from statsmodels.regression.linear_model import OLS\n",
    "from sklearn.model_selection import train_test_split\n",
    "\n",
    "x_train, x_test, y_train, y_test = train_test_split(X, Y, train_size=0.80, test_size=0.20)\n",
    "x_train = np.array(x_train, dtype=float)\n",
    "\n",
    "columns = [0,1,2,3]\n",
    "significant_columns = []\n",
    "\n",
    "while True:\n",
    "    new_x_opt = x_train[:, columns]\n",
    "    ols = OLS(endog=y_train, exog=new_x_opt)\n",
    "    model = ols.fit()\n",
    "\n",
    "    p_values = model.pvalues  # get p-values\n",
    "    \n",
    "    for index, pvalue in zip(columns, p_values):\n",
    "        if pvalue > 0.05 and index != 0: \n",
    "            columns.remove(columns[index])\n",
    "            break\n",
    "    else:\n",
    "        columns_names = [c_name for c_name in X_data_set.columns]\n",
    "        for c in columns:\n",
    "            if c != 0:\n",
    "                significant_columns.append(columns_names[c-1])\n",
    "        break\n",
    "    continue"
   ]
  },
  {
   "cell_type": "code",
   "execution_count": 23,
   "metadata": {},
   "outputs": [
    {
     "name": "stdout",
     "output_type": "stream",
     "text": [
      "Significant columns are:  ['G1', 'G2']\n"
     ]
    }
   ],
   "source": [
    "print('Significant columns are: ', significant_columns)"
   ]
  },
  {
   "cell_type": "code",
   "execution_count": 24,
   "metadata": {},
   "outputs": [
    {
     "name": "stdout",
     "output_type": "stream",
     "text": [
      "                            OLS Regression Results                            \n",
      "==============================================================================\n",
      "Dep. Variable:                      y   R-squared:                       0.935\n",
      "Model:                            OLS   Adj. R-squared:                  0.935\n",
      "Method:                 Least Squares   F-statistic:                     2033.\n",
      "Date:                Fri, 03 Jul 2020   Prob (F-statistic):          3.00e-168\n",
      "Time:                        17:09:34   Log-Likelihood:                -351.93\n",
      "No. Observations:                 285   AIC:                             709.9\n",
      "Df Residuals:                     282   BIC:                             720.8\n",
      "Df Model:                           2                                         \n",
      "Covariance Type:            nonrobust                                         \n",
      "==============================================================================\n",
      "                 coef    std err          t      P>|t|      [0.025      0.975]\n",
      "------------------------------------------------------------------------------\n",
      "const          0.0716      0.187      0.382      0.702      -0.297       0.440\n",
      "x1             0.1038      0.035      2.937      0.004       0.034       0.173\n",
      "x2             0.9054      0.036     25.125      0.000       0.834       0.976\n",
      "==============================================================================\n",
      "Omnibus:                        2.776   Durbin-Watson:                   2.025\n",
      "Prob(Omnibus):                  0.250   Jarque-Bera (JB):                2.490\n",
      "Skew:                           0.169   Prob(JB):                        0.288\n",
      "Kurtosis:                       3.309   Cond. No.                         62.9\n",
      "==============================================================================\n",
      "\n",
      "Warnings:\n",
      "[1] Standard Errors assume that the covariance matrix of the errors is correctly specified.\n"
     ]
    }
   ],
   "source": [
    "# Make new model with statistically significant variables/columns/features\n",
    "X = data_set.loc[:, ['G1', 'G2']].values\n",
    "X = np.append(arr=np.ones((len(X), 1)).astype(int), values=X, axis=1)  # appended ones at front of the matrix\n",
    "Y = data_set['G3'].values.reshape(-1, 1)\n",
    "\n",
    "from statsmodels.regression.linear_model import OLS\n",
    "from sklearn.model_selection import train_test_split\n",
    "x_train, x_test, y_train, y_test = train_test_split(X, Y, train_size=0.80, test_size=0.20)\n",
    "x_train = np.array(x_train, dtype=float)\n",
    "new_x_opt = x_train[:, [0,1,2]]\n",
    "ols = OLS(endog=y_train, exog=new_x_opt)\n",
    "model = ols.fit()\n",
    "print(model.summary())"
   ]
  },
  {
   "cell_type": "code",
   "execution_count": 25,
   "metadata": {},
   "outputs": [
    {
     "data": {
      "text/plain": [
       "array([0.07163925, 0.10383056, 0.90535241])"
      ]
     },
     "execution_count": 25,
     "metadata": {},
     "output_type": "execute_result"
    }
   ],
   "source": [
    "model.params  # coefficients"
   ]
  },
  {
   "cell_type": "code",
   "execution_count": 26,
   "metadata": {},
   "outputs": [],
   "source": [
    "predicted_Y = model.predict(x_test)  # predict y test values"
   ]
  },
  {
   "cell_type": "code",
   "execution_count": 27,
   "metadata": {},
   "outputs": [],
   "source": [
    "real_values = [value[0] for value in y_test]  \n",
    "predicted_values = predicted_Y"
   ]
  },
  {
   "cell_type": "code",
   "execution_count": 28,
   "metadata": {},
   "outputs": [],
   "source": [
    "# compare values\n",
    "data = [(r, p) for r, p in zip(real_values, predicted_values)]\n",
    "df = pd.DataFrame(data=data, index=range(0, len(predicted_values)), columns=['Real_values', 'Predicted_values'])"
   ]
  },
  {
   "cell_type": "code",
   "execution_count": 29,
   "metadata": {},
   "outputs": [
    {
     "data": {
      "text/html": [
       "<div>\n",
       "<style scoped>\n",
       "    .dataframe tbody tr th:only-of-type {\n",
       "        vertical-align: middle;\n",
       "    }\n",
       "\n",
       "    .dataframe tbody tr th {\n",
       "        vertical-align: top;\n",
       "    }\n",
       "\n",
       "    .dataframe thead th {\n",
       "        text-align: right;\n",
       "    }\n",
       "</style>\n",
       "<table border=\"1\" class=\"dataframe\">\n",
       "  <thead>\n",
       "    <tr style=\"text-align: right;\">\n",
       "      <th></th>\n",
       "      <th>Real_values</th>\n",
       "      <th>Predicted_values</th>\n",
       "    </tr>\n",
       "  </thead>\n",
       "  <tbody>\n",
       "    <tr>\n",
       "      <td>0</td>\n",
       "      <td>15</td>\n",
       "      <td>15.417045</td>\n",
       "    </tr>\n",
       "    <tr>\n",
       "      <td>1</td>\n",
       "      <td>17</td>\n",
       "      <td>16.322397</td>\n",
       "    </tr>\n",
       "    <tr>\n",
       "      <td>2</td>\n",
       "      <td>11</td>\n",
       "      <td>12.389496</td>\n",
       "    </tr>\n",
       "    <tr>\n",
       "      <td>3</td>\n",
       "      <td>8</td>\n",
       "      <td>8.248934</td>\n",
       "    </tr>\n",
       "    <tr>\n",
       "      <td>4</td>\n",
       "      <td>14</td>\n",
       "      <td>14.304031</td>\n",
       "    </tr>\n",
       "  </tbody>\n",
       "</table>\n",
       "</div>"
      ],
      "text/plain": [
       "   Real_values  Predicted_values\n",
       "0           15         15.417045\n",
       "1           17         16.322397\n",
       "2           11         12.389496\n",
       "3            8          8.248934\n",
       "4           14         14.304031"
      ]
     },
     "execution_count": 29,
     "metadata": {},
     "output_type": "execute_result"
    }
   ],
   "source": [
    "df.head()"
   ]
  },
  {
   "cell_type": "code",
   "execution_count": 30,
   "metadata": {},
   "outputs": [
    {
     "name": "stdout",
     "output_type": "stream",
     "text": [
      "Number of folds: 5\n"
     ]
    }
   ],
   "source": [
    "# Apply k-fold cross validation where k is 5\n",
    "from sklearn.model_selection import KFold \n",
    "from statsmodels.tools.eval_measures import rmse, mse, meanabs\n",
    "kf = KFold(n_splits=5, random_state=1999) # Define the split - into 5 folds \n",
    "k = kf.get_n_splits(X) # returns the number of folds\n",
    "print('Number of folds:', k)\n",
    "\n",
    "r_squared_list = []\n",
    "adj_r_squared_list = []\n",
    "mse_list = []\n",
    "rmse_list = []\n",
    "mae_list = []\n",
    "\n",
    "for train_index, test_index in kf.split(X):  # returns k train and test indexes\n",
    "    x_train = [X[index] for index in train_index]\n",
    "    y_train = [Y[index] for index in train_index]\n",
    "    x_test = [X[index] for index in test_index]\n",
    "    y_test = [Y[index] for index in test_index]\n",
    "        \n",
    "    ols = OLS(endog=y_train, exog=x_train)\n",
    "    model = ols.fit()\n",
    "    \n",
    "    r_squared_list.append(model.rsquared)  # r_squared\n",
    "    adj_r_squared_list.append(model.rsquared_adj)  # adj r_squared\n",
    "        \n",
    "    y_test = [value[0] for value in y_test]  # reformat y_test into 1D array from 2D array\n",
    "    predict_y = model.predict(exog=x_test)\n",
    "   \n",
    "    mse_value = mse(y_test, predict_y) # mean square error\n",
    "    rmse_value = rmse(y_test, predict_y) # root mean square error\n",
    "    mae_value = meanabs(y_test, predict_y) # mean absolute error\n",
    "\n",
    "    mse_list.append(mse_value)\n",
    "    rmse_list.append(rmse_value)\n",
    "    mae_list.append(mae_value)"
   ]
  },
  {
   "cell_type": "code",
   "execution_count": 31,
   "metadata": {},
   "outputs": [
    {
     "name": "stdout",
     "output_type": "stream",
     "text": [
      "RESULTS: \n",
      "\n",
      "Max r_squared: 0.9389\n",
      "Min r_squared: 0.93023\n",
      "Average r_squared: 0.93475\n",
      "\n",
      "Max adj_r_squared: 0.93846\n",
      "Min adj_r_squared: 0.92973\n",
      "Average adj_r_squared: 0.93428\n",
      "\n",
      "Max MSE: 0.95019\n",
      "Min MSE: 0.46053\n",
      "Average MSE: 0.6867\n",
      "\n",
      "Max RMSE: 0.97478\n",
      "Min RMSE: 0.67862\n",
      "Average RMSE: 0.82166\n",
      "\n",
      "Max MAE: 0.737\n",
      "Min MAE: 0.52422\n",
      "Average MAE: 0.63258\n"
     ]
    }
   ],
   "source": [
    "# Results\n",
    "print(\"RESULTS: \\n\")\n",
    "print(f'Max r_squared: {round(max(r_squared_list), 5)}')\n",
    "print(f'Min r_squared: {round(min(r_squared_list), 5)}')\n",
    "print(f'Average r_squared: {round(np.average(r_squared_list), 5)}')\n",
    "print()\n",
    "print(f'Max adj_r_squared: {round(max(adj_r_squared_list), 5)}')\n",
    "print(f'Min adj_r_squared: {round(min(adj_r_squared_list), 5)}')\n",
    "print(f'Average adj_r_squared: {round(np.average(adj_r_squared_list), 5)}')\n",
    "print()\n",
    "print(f'Max MSE: {round(max(mse_list), 5)}')\n",
    "print(f'Min MSE: {round(min(mse_list), 5)}')\n",
    "print(f'Average MSE: {round(np.average(mse_list), 5)}')\n",
    "print()\n",
    "print(f'Max RMSE: {round(max(rmse_list), 5)}')\n",
    "print(f'Min RMSE: {round(min(rmse_list), 5)}')\n",
    "print(f'Average RMSE: {round(np.average(rmse_list), 5)}')\n",
    "print()\n",
    "print(f'Max MAE: {round(max(mae_list), 5)}')\n",
    "print(f'Min MAE: {round(min(mae_list), 5)}')\n",
    "print(f'Average MAE: {round(np.average(mae_list), 5)}')"
   ]
  },
  {
   "cell_type": "code",
   "execution_count": 32,
   "metadata": {},
   "outputs": [],
   "source": [
    "# save model\n",
    "import pickle  \n",
    "with open('Model.txt','wb') as f:\n",
    "    pickle.dump(model, f)"
   ]
  }
 ],
 "metadata": {
  "kernelspec": {
   "display_name": "Python 3",
   "language": "python",
   "name": "python3"
  },
  "language_info": {
   "codemirror_mode": {
    "name": "ipython",
    "version": 3
   },
   "file_extension": ".py",
   "mimetype": "text/x-python",
   "name": "python",
   "nbconvert_exporter": "python",
   "pygments_lexer": "ipython3",
   "version": "3.7.4"
  }
 },
 "nbformat": 4,
 "nbformat_minor": 2
}
